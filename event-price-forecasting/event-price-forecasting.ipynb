{
 "cells": [
  {
   "cell_type": "code",
   "execution_count": 1,
   "metadata": {},
   "outputs": [],
   "source": [
    "from scrapping import NewsScrapper"
   ]
  },
  {
   "cell_type": "code",
   "execution_count": 2,
   "metadata": {},
   "outputs": [],
   "source": [
    "scrapper = NewsScrapper()"
   ]
  },
  {
   "cell_type": "code",
   "execution_count": 3,
   "metadata": {},
   "outputs": [
    {
     "name": "stderr",
     "output_type": "stream",
     "text": [
      "unable to cache publicsuffix.org-tlds.{'urls': ('https://publicsuffix.org/list/public_suffix_list.dat', 'https://raw.githubusercontent.com/publicsuffix/list/master/public_suffix_list.dat'), 'fallback_to_snapshot': True} in c:\\ProgramData\\anaconda3\\envs\\pdi\\lib\\site-packages\\tldextract\\.suffix_cache\\publicsuffix.org-tlds\\de84b5ca2167d4c83e38fb162f2e8738.tldextract.json. This could refresh the Public Suffix List over HTTP every app startup. Construct your `TLDExtract` with a writable `cache_dir` or set `cache_dir=None` to silence this warning. [WinError 5] Accès refusé: 'c:\\\\ProgramData\\\\anaconda3\\\\envs\\\\pdi\\\\lib\\\\site-packages\\\\tldextract\\\\.suffix_cache'\n"
     ]
    },
    {
     "name": "stdout",
     "output_type": "stream",
     "text": [
      "Building papers :\n",
      "[1/11] - https://edition.cnn.com/\n",
      "[2/11] - https://time.com/\n",
      "[3/11] - https://www.cnbc.com/world/?region=world\n",
      "[4/11] - http://www.huffingtonpost.com\n",
      "[5/11] - https://www.foxnews.com/\n",
      "[6/11] - http://theatlantic.com\n",
      "[7/11] - https://www.pcmag.com/\n",
      "[8/11] - http://www.bbc.co.uk\n",
      "[9/11] - https://www.businessinsider.com/?r=US&IR=T\n",
      "[10/11] - https://newrepublic.com/\n",
      "[11/11] - https://thebusinessjournal.com/\n"
     ]
    }
   ],
   "source": [
    "scrapper.build_papers()"
   ]
  },
  {
   "cell_type": "code",
   "execution_count": 4,
   "metadata": {},
   "outputs": [
    {
     "name": "stdout",
     "output_type": "stream",
     "text": [
      "paper: <newspaper.source.Source object at 0x000001A5AEA04AC0>\n",
      "article: Dementia and sport: These rugby players represented their country in their 20s, by their 40s, they had early onset dementia\n",
      "article: Tirzepatide: Weight loss drug helps significantly lower blood pressure in adults who are overweight or obese, study finds\n",
      "article: Dementia and sport: These rugby players represented their country in their 20s, by their 40s, they had early onset dementia\n",
      "article: Tirzepatide: Weight loss drug helps significantly lower blood pressure in adults who are overweight or obese, study finds\n",
      "article: وائل الدحدوح يودع فردا جديدا من عائلته في \"عام الحزن\": \"ما أصعب أن تتكالب الهموم\"\n",
      "article: تفاعل مُعقد بين أمريكا وإيران وإسرائيل والعرب.. لماذا يُعتبر الاستقرار في الشرق الأوسط بعيد المنال؟\n",
      "article: المرشد الإيراني يُطالب العالم الإسلامي بـ\"ضربة حاسمة\" ضد إسرائيل\n",
      "article: الطعام المهضوم مسبقًا.. ما أبرز مخاطره؟\n",
      "article: Live updates: California atmospheric river-fueled storm brings rain and flooding to Los Angeles, San Diego and throughout state\n",
      "article: Big Northeast snowstorms usually happen in February\n",
      "article: Robert Kraft: New England Patriots owner hails ‘smart’ Taylor Swift, says he was ‘privileged’ to have Bill Belichick as coach\n",
      "article: Dementia and sport: These rugby players represented their country in their 20s, by their 40s, they had early onset dementia\n",
      "article: Tirzepatide: Weight loss drug helps significantly lower blood pressure in adults who are overweight or obese, study finds\n",
      "article: Guerra entre Israel y Hamas en vivo: noticias, ataques represalia de Estados Unidos en Iraq y Siria, tensión en Medio Oriente y más\n",
      "article: Estados Unidos lanza ataques de represalia en Iraq y Siria contra grupos respaldados por Irán\n",
      "article: Este es el bombardero B-1 de la Fuerza Aérea de EE.UU. usado en el ataque a objetivos en Iraq y Siria\n",
      "paper: <newspaper.source.Source object at 0x000001A5B110DFA0>\n",
      "paper: <newspaper.source.Source object at 0x000001A5B112C130>\n",
      "article: Red Sea crisis: DP World Group COO says biggest challenge is European imports\n",
      "paper: <newspaper.source.Source object at 0x000001A5B112CE80>\n",
      "article: L'odioso ricatto dell'Iran che tortura Johan Floderus\n",
      "article: Contenere l'Iran. Gli Usa a caccia di miliziani sciiti in tutto il Medio Oriente\n",
      "article: Conte mette nell'angolo Schlein\n",
      "article: La tentazione plebiscitaria\n",
      "article: \"Pensate prima a creare, poi agli avvocati\". Il discorso del giovane Zuckerberg agli albori di Faceebook\n",
      "article: Jacob Elordi accusé d’avoir agressé un animateur radio après une blague sur « Saltburn »\n",
      "article: François Bayrou relaxé par la justice dans l’affaire des assistants d’eurodéputés du MoDem\n",
      "article: Guerre en Ukraine : l’ambassadeur de Russie convoqué par la France après la mort de deux humanitaires français\n",
      "article: Rusia eleva a 28 los muertos en un ataque ucraniano sobre una panadería de Lugansk\n",
      "article: Hacienda quiere fulminar los datáfonos en todas estas empresas\n",
      "article: Sánchez y Von der Leyen pedirán el jueves en Mauritania más cooperación en inmigración\n",
      "article: La OCDE confirma que la economía española seguirá creciendo por encima de la media europea\n",
      "article: Ανείπωτη τραγωδία στη Χιλή: Εκατόμβη νεκρών από πυρκαγιές\n",
      "article: Έρευνα: Ημερήσια απειλή για τις δημοκρατίες η κακόβουλη χρήση ΑΙ το 2024\n",
      "article: Αστεροειδής μεγέθους αεροπλάνου θα περάσει ξυστά από τη Γη το Σάββατο\n",
      "article: Δένδιας: Πρόβλεψη δημιουργίας θόλου antidrone για τις ελληνικές Ένοπλες Δυνάμεις\n",
      "article: Για την ορθή χρήση τεχνολογιών από τα παιδιά και τους εφήβους\n",
      "article: Babies Killed In Gaza Are ‘Not Innocent Palestinian Civilians,’ US Lawmaker Says\n",
      "article: Biden Reportedly Unloads On 'Sick F**k' Trump In Private\n",
      "article: Newlyweds Calvin Harris And Vick Hope Make First Red Carpet Appearance Together At The Grammys\n",
      "article: Grammys 2024: Here Are All The Must-See Red Carpet Photos\n",
      "article: Kylie Minogue Padams Her Way To Another Incredible Accolade Thanks To Grammys Win\n",
      "paper: <newspaper.source.Source object at 0x000001A5B1163EE0>\n",
      "article: Taylor Swift Announces New Album: DETAILS\n",
      "article: New Jersey woman goes viral for 'mob-wife aesthetic,' prompts women to don flashy fashion\n",
      "article: Taylor Swift Announces New Album: DETAILS\n",
      "article: New Jersey woman goes viral for 'mob-wife aesthetic,' prompts women to don flashy fashion\n",
      "paper: <newspaper.source.Source object at 0x000001A5B1114BE0>\n",
      "paper: <newspaper.source.Source object at 0x000001A5B4F272B0>\n",
      "paper: <newspaper.source.Source object at 0x000001A5B4F278B0>\n",
      "article: Jaywick dog attack: Man bailed after woman killed by dogs\n",
      "article: Man who murdered new girlfriend jailed for life\n",
      "article: Jaywick dog attack: Man bailed after woman killed by dogs\n",
      "article: Man who murdered new girlfriend jailed for life\n",
      "article: Mandolin player wins BBC Young Traditional Musician award for 2024\n",
      "paper: <newspaper.source.Source object at 0x000001A5B440DF70>\n",
      "article: Ich war 33 Jahre Alkoholiker, bis ich aufflog\n",
      "article: \"Russisches-Google\": Yandex verkauft Russlandgeschäft für 475 Milliarden Rubel\n",
      "article: Nieuwe baas centrale bank Turkije handhaaft streng rentebeleid\n",
      "article: Planten kunnen met elkaar 'praten', zeggen onderzoekers – kijk zelf\n",
      "article: Liquor lockers are revolutionizing how the elite have a nightcap\n",
      "paper: <newspaper.source.Source object at 0x000001A5B440D3D0>\n",
      "article: Krugman: Trump-MAGA Are in Deep Denial About Biden’s Good Economy\n",
      "article: I Know Why College Grades Are Going Up. It’s Definitely Not Wokeism.\n",
      "article: Why the Explosive Jobs Report Will Hit Trump Harder Than You Think\n",
      "article: Biden Should Call Trump a “Sick F**k” in Public. Real America Agrees.\n",
      "article: Republicans Have Nothing to Impeach Joe Biden On. And They Finally Know It.\n",
      "article: Michigan Mayor to Biden: Heed the Calls of Americans on Gaza\n",
      "article: Tommy Tuberville May Yet Pay for His Antics, if House Dems Have Their Way\n",
      "article: Here’s Why Judge Engoron Likely Slammed Brakes on Trump Fraud Trial Verdict\n",
      "article: Is Trump’s Crazy, Baseless Immunity Defense Maybe Going to Work?\n",
      "article: The Low-Key Pleasures of Mr. and Mrs. Smith\n",
      "article: How Lucy Sante Wrote a Revelatory Memoir\n",
      "article: Oppenheimer Is Leading This Year’s Oscar Nominations\n",
      "article: Poor Things Is a Glorious Mash-Up\n",
      "article: Alexander Payne’s School for Sad Sacks\n",
      "article: “Killers of the Flower Moon” Is a Groundbreaking Achievement\n",
      "article: MAGA’s Ugly New “Civil War” Fantasy Should Be Taken Seriously\n",
      "article: How Trump Used a Sleazy Old Trick to Scam His Voters on Legal Fees\n",
      "article: Is Trump Slowly Imploding? Here’s a Place to Look for Hidden Clues.\n",
      "article: Media\n",
      "article: The Messenger Didn’t Stand a Chance\n",
      "article: Bernie Sanders Has a Plan to Make Big Pharma’s Greedheads Squirm\n",
      "article: Explore Cuba!\n",
      "article: Discover Spain\n",
      "article: On the Road in the Emerald Isle\n",
      "article: Visit Egypt\n",
      "article: Fixing American Farming Shouldn’t Be a Tough Sell\n",
      "article: The Worst Person You Know Just Made a Great Point About Electric Cars\n",
      "article: I Really Hate It When Robert F. Kennedy Jr. Is Right\n",
      "article: The Media Coverage of Biden’s Natural Gas Decision Is Ridiculous\n",
      "article: How Fishing Releases Huge Amounts of Carbon Dioxide\n",
      "article: Why Is ExxonMobil Suing Its Own Shareholders?\n",
      "article: The Government Vacancy That Could Cost West Virginians Billions\n",
      "article: Trump Thinks He Could Be Convicted Before the Election — And He Has a Plan\n",
      "article: Nikki Haley Makes Her Bizarro Texas Secession Comment Even Worse\n",
      "article: Um... Trump May Still Be Hoarding Classified Documents at Mar-a-Lago?\n",
      "article: Remember That Indicted Trump Valet? He Hates Women Just as Much as His Boss\n",
      "article: You Can’t Bomb the Houthis Into Not Supporting Palestine\n",
      "article: The Time Has Come for Israel and Its Allies to Make a Choice\n",
      "paper: <newspaper.source.Source object at 0x000001A5B44057C0>\n"
     ]
    }
   ],
   "source": [
    "scrapper.retrieve_relevant_articles()"
   ]
  }
 ],
 "metadata": {
  "kernelspec": {
   "display_name": "pdi",
   "language": "python",
   "name": "python3"
  },
  "language_info": {
   "codemirror_mode": {
    "name": "ipython",
    "version": 3
   },
   "file_extension": ".py",
   "mimetype": "text/x-python",
   "name": "python",
   "nbconvert_exporter": "python",
   "pygments_lexer": "ipython3",
   "version": "3.8.18"
  }
 },
 "nbformat": 4,
 "nbformat_minor": 2
}
